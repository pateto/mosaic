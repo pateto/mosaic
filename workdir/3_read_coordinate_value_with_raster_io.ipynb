{
 "cells": [
  {
   "cell_type": "code",
   "execution_count": 1,
   "id": "68f0de2f",
   "metadata": {},
   "outputs": [],
   "source": [
    "import rasterio"
   ]
  },
  {
   "cell_type": "code",
   "execution_count": 2,
   "id": "dd0e9a33",
   "metadata": {},
   "outputs": [],
   "source": [
    "import matplotlib.pyplot as plt"
   ]
  },
  {
   "cell_type": "code",
   "execution_count": 3,
   "id": "81cef99e",
   "metadata": {},
   "outputs": [],
   "source": [
    "src = rasterio.open(\"AEROSOL_3K_TIF/TERRA/AGOSTO/MOD04_3K.A2018213.1610.061.2018215192211.tif\")"
   ]
  },
  {
   "cell_type": "code",
   "execution_count": 4,
   "id": "9feebb67",
   "metadata": {},
   "outputs": [
    {
     "data": {
      "text/plain": [
       "<open DatasetReader name='AEROSOL_3K_TIF/TERRA/AGOSTO/MOD04_3K.A2018213.1610.061.2018215192211.tif' mode='r'>"
      ]
     },
     "execution_count": 4,
     "metadata": {},
     "output_type": "execute_result"
    }
   ],
   "source": [
    "src"
   ]
  },
  {
   "cell_type": "code",
   "execution_count": 7,
   "id": "04f72b83",
   "metadata": {},
   "outputs": [
    {
     "name": "stdout",
     "output_type": "stream",
     "text": [
      "[-9999]\n"
     ]
    },
    {
     "data": {
      "text/plain": [
       "array([-9999], dtype=int16)"
      ]
     },
     "execution_count": 7,
     "metadata": {},
     "output_type": "execute_result"
    }
   ],
   "source": [
    "x=-76.0015598\n",
    "y=4.0072730\n",
    "for val in src.sample([(x, y)]):    \n",
    "    print(val)"
   ]
  },
  {
   "cell_type": "code",
   "execution_count": 8,
   "id": "a7018e51",
   "metadata": {},
   "outputs": [
    {
     "data": {
      "text/plain": [
       "array([-9999], dtype=int16)"
      ]
     },
     "execution_count": 8,
     "metadata": {},
     "output_type": "execute_result"
    }
   ],
   "source": [
    "for point in src.sample([(x, y)]):\n",
    "    point_value = point\n",
    "point_value"
   ]
  }
 ],
 "metadata": {
  "kernelspec": {
   "display_name": "Python 3 (ipykernel)",
   "language": "python",
   "name": "python3"
  },
  "language_info": {
   "codemirror_mode": {
    "name": "ipython",
    "version": 3
   },
   "file_extension": ".py",
   "mimetype": "text/x-python",
   "name": "python",
   "nbconvert_exporter": "python",
   "pygments_lexer": "ipython3",
   "version": "3.10.6"
  }
 },
 "nbformat": 4,
 "nbformat_minor": 5
}
