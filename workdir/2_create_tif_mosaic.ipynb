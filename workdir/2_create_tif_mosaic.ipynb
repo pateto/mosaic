{
 "cells": [
  {
   "cell_type": "code",
   "execution_count": 1,
   "id": "68f0de2f",
   "metadata": {},
   "outputs": [],
   "source": [
    "from osgeo import gdal\n",
    "import glob, os\n",
    "\n",
    "import matplotlib.pyplot as plt"
   ]
  },
  {
   "cell_type": "markdown",
   "id": "350ea874",
   "metadata": {},
   "source": [
    "## Files to read as a mosaic"
   ]
  },
  {
   "cell_type": "code",
   "execution_count": 2,
   "id": "81cef99e",
   "metadata": {},
   "outputs": [
    {
     "data": {
      "text/plain": [
       "['AEROSOL_3K_TIF/TERRA/AGOSTO/MOD04_3K.A2018213.1610.061.2018215192211.tif',\n",
       " 'AEROSOL_3K_TIF/TERRA/AGOSTO/MOD04_3K.A2018214.1515.061.2018215210547.tif',\n",
       " 'AEROSOL_3K_TIF/TERRA/AGOSTO/MOD04_3K.A2018215.1600.061.2018216014730.tif',\n",
       " 'AEROSOL_3K_TIF/TERRA/AGOSTO/MOD04_3K.A2018216.1505.061.2018218155600.tif',\n",
       " 'AEROSOL_3K_TIF/TERRA/AGOSTO/MOD04_3K.A2018217.1545.061.2018218203655.tif',\n",
       " 'AEROSOL_3K_TIF/TERRA/AGOSTO/MOD04_3K.A2018217.1550.061.2018218203636.tif',\n",
       " 'AEROSOL_3K_TIF/TERRA/AGOSTO/MOD04_3K.A2018218.1455.061.2018226140307.tif',\n",
       " 'AEROSOL_3K_TIF/TERRA/AGOSTO/MOD04_3K.A2018219.1535.061.2018226141751.tif',\n",
       " 'AEROSOL_3K_TIF/TERRA/AGOSTO/MOD04_3K.A2018220.1620.061.2018226143336.tif',\n",
       " 'AEROSOL_3K_TIF/TERRA/AGOSTO/MOD04_3K.A2018221.1525.061.2018226144756.tif',\n",
       " 'AEROSOL_3K_TIF/TERRA/AGOSTO/MOD04_3K.A2018222.1605.061.2018226211800.tif',\n",
       " 'AEROSOL_3K_TIF/TERRA/AGOSTO/MOD04_3K.A2018223.1510.061.2018226221953.tif',\n",
       " 'AEROSOL_3K_TIF/TERRA/AGOSTO/MOD04_3K.A2018224.1555.061.2018226223224.tif',\n",
       " 'AEROSOL_3K_TIF/TERRA/AGOSTO/MOD04_3K.A2018225.1500.061.2018226224820.tif',\n",
       " 'AEROSOL_3K_TIF/TERRA/AGOSTO/MOD04_3K.A2018226.1540.061.2018227015336.tif',\n",
       " 'AEROSOL_3K_TIF/TERRA/AGOSTO/MOD04_3K.A2018227.1625.061.2018228015041.tif',\n",
       " 'AEROSOL_3K_TIF/TERRA/AGOSTO/MOD04_3K.A2018228.1530.061.2018229174101.tif',\n",
       " 'AEROSOL_3K_TIF/TERRA/AGOSTO/MOD04_3K.A2018229.1610.061.2018233140040.tif',\n",
       " 'AEROSOL_3K_TIF/TERRA/AGOSTO/MOD04_3K.A2018230.1515.061.2018234011523.tif',\n",
       " 'AEROSOL_3K_TIF/TERRA/AGOSTO/MOD04_3K.A2018231.1600.061.2018234013104.tif',\n",
       " 'AEROSOL_3K_TIF/TERRA/AGOSTO/MOD04_3K.A2018232.1505.061.2018234014621.tif',\n",
       " 'AEROSOL_3K_TIF/TERRA/AGOSTO/MOD04_3K.A2018233.1545.061.2018234031503.tif',\n",
       " 'AEROSOL_3K_TIF/TERRA/AGOSTO/MOD04_3K.A2018233.1550.061.2018234031313.tif',\n",
       " 'AEROSOL_3K_TIF/TERRA/AGOSTO/MOD04_3K.A2018234.1450.061.2018235013522.tif',\n",
       " 'AEROSOL_3K_TIF/TERRA/AGOSTO/MOD04_3K.A2018234.1455.061.2018235013745.tif',\n",
       " 'AEROSOL_3K_TIF/TERRA/AGOSTO/MOD04_3K.A2018235.1535.061.2018236014305.tif',\n",
       " 'AEROSOL_3K_TIF/TERRA/AGOSTO/MOD04_3K.A2018236.1615.061.2018237013943.tif',\n",
       " 'AEROSOL_3K_TIF/TERRA/AGOSTO/MOD04_3K.A2018236.1620.061.2018237013919.tif',\n",
       " 'AEROSOL_3K_TIF/TERRA/AGOSTO/MOD04_3K.A2018237.1520.061.2018238041803.tif',\n",
       " 'AEROSOL_3K_TIF/TERRA/AGOSTO/MOD04_3K.A2018237.1525.061.2018238035904.tif',\n",
       " 'AEROSOL_3K_TIF/TERRA/AGOSTO/MOD04_3K.A2018238.1605.061.2018239014430.tif',\n",
       " 'AEROSOL_3K_TIF/TERRA/AGOSTO/MOD04_3K.A2018239.1510.061.2018240014959.tif',\n",
       " 'AEROSOL_3K_TIF/TERRA/AGOSTO/MOD04_3K.A2018240.1555.061.2018241014044.tif',\n",
       " 'AEROSOL_3K_TIF/TERRA/AGOSTO/MOD04_3K.A2018241.1500.061.2018242014038.tif',\n",
       " 'AEROSOL_3K_TIF/TERRA/AGOSTO/MOD04_3K.A2018242.1540.061.2018243222652.tif',\n",
       " 'AEROSOL_3K_TIF/TERRA/AGOSTO/MOD04_3K.A2018243.1625.061.2018247152937.tif']"
      ]
     },
     "execution_count": 2,
     "metadata": {},
     "output_type": "execute_result"
    }
   ],
   "source": [
    "files_to_mosaic = glob.glob(\"AEROSOL_3K_TIF/TERRA/AGOSTO/*.tif\")\n",
    "\n",
    "files_to_mosaic"
   ]
  },
  {
   "cell_type": "code",
   "execution_count": 3,
   "id": "dd7f65e3",
   "metadata": {},
   "outputs": [
    {
     "data": {
      "text/plain": [
       "'AEROSOL_3K_TIF/TERRA/AGOSTO/MOD04_3K.A2018213.1610.061.2018215192211.tif AEROSOL_3K_TIF/TERRA/AGOSTO/MOD04_3K.A2018214.1515.061.2018215210547.tif AEROSOL_3K_TIF/TERRA/AGOSTO/MOD04_3K.A2018215.1600.061.2018216014730.tif AEROSOL_3K_TIF/TERRA/AGOSTO/MOD04_3K.A2018216.1505.061.2018218155600.tif AEROSOL_3K_TIF/TERRA/AGOSTO/MOD04_3K.A2018217.1545.061.2018218203655.tif AEROSOL_3K_TIF/TERRA/AGOSTO/MOD04_3K.A2018217.1550.061.2018218203636.tif AEROSOL_3K_TIF/TERRA/AGOSTO/MOD04_3K.A2018218.1455.061.2018226140307.tif AEROSOL_3K_TIF/TERRA/AGOSTO/MOD04_3K.A2018219.1535.061.2018226141751.tif AEROSOL_3K_TIF/TERRA/AGOSTO/MOD04_3K.A2018220.1620.061.2018226143336.tif AEROSOL_3K_TIF/TERRA/AGOSTO/MOD04_3K.A2018221.1525.061.2018226144756.tif AEROSOL_3K_TIF/TERRA/AGOSTO/MOD04_3K.A2018222.1605.061.2018226211800.tif AEROSOL_3K_TIF/TERRA/AGOSTO/MOD04_3K.A2018223.1510.061.2018226221953.tif AEROSOL_3K_TIF/TERRA/AGOSTO/MOD04_3K.A2018224.1555.061.2018226223224.tif AEROSOL_3K_TIF/TERRA/AGOSTO/MOD04_3K.A2018225.1500.061.2018226224820.tif AEROSOL_3K_TIF/TERRA/AGOSTO/MOD04_3K.A2018226.1540.061.2018227015336.tif AEROSOL_3K_TIF/TERRA/AGOSTO/MOD04_3K.A2018227.1625.061.2018228015041.tif AEROSOL_3K_TIF/TERRA/AGOSTO/MOD04_3K.A2018228.1530.061.2018229174101.tif AEROSOL_3K_TIF/TERRA/AGOSTO/MOD04_3K.A2018229.1610.061.2018233140040.tif AEROSOL_3K_TIF/TERRA/AGOSTO/MOD04_3K.A2018230.1515.061.2018234011523.tif AEROSOL_3K_TIF/TERRA/AGOSTO/MOD04_3K.A2018231.1600.061.2018234013104.tif AEROSOL_3K_TIF/TERRA/AGOSTO/MOD04_3K.A2018232.1505.061.2018234014621.tif AEROSOL_3K_TIF/TERRA/AGOSTO/MOD04_3K.A2018233.1545.061.2018234031503.tif AEROSOL_3K_TIF/TERRA/AGOSTO/MOD04_3K.A2018233.1550.061.2018234031313.tif AEROSOL_3K_TIF/TERRA/AGOSTO/MOD04_3K.A2018234.1450.061.2018235013522.tif AEROSOL_3K_TIF/TERRA/AGOSTO/MOD04_3K.A2018234.1455.061.2018235013745.tif AEROSOL_3K_TIF/TERRA/AGOSTO/MOD04_3K.A2018235.1535.061.2018236014305.tif AEROSOL_3K_TIF/TERRA/AGOSTO/MOD04_3K.A2018236.1615.061.2018237013943.tif AEROSOL_3K_TIF/TERRA/AGOSTO/MOD04_3K.A2018236.1620.061.2018237013919.tif AEROSOL_3K_TIF/TERRA/AGOSTO/MOD04_3K.A2018237.1520.061.2018238041803.tif AEROSOL_3K_TIF/TERRA/AGOSTO/MOD04_3K.A2018237.1525.061.2018238035904.tif AEROSOL_3K_TIF/TERRA/AGOSTO/MOD04_3K.A2018238.1605.061.2018239014430.tif AEROSOL_3K_TIF/TERRA/AGOSTO/MOD04_3K.A2018239.1510.061.2018240014959.tif AEROSOL_3K_TIF/TERRA/AGOSTO/MOD04_3K.A2018240.1555.061.2018241014044.tif AEROSOL_3K_TIF/TERRA/AGOSTO/MOD04_3K.A2018241.1500.061.2018242014038.tif AEROSOL_3K_TIF/TERRA/AGOSTO/MOD04_3K.A2018242.1540.061.2018243222652.tif AEROSOL_3K_TIF/TERRA/AGOSTO/MOD04_3K.A2018243.1625.061.2018247152937.tif'"
      ]
     },
     "execution_count": 3,
     "metadata": {},
     "output_type": "execute_result"
    }
   ],
   "source": [
    "files_string = \" \".join(files_to_mosaic)\n",
    "files_string"
   ]
  },
  {
   "cell_type": "markdown",
   "id": "d1f76f7b",
   "metadata": {},
   "source": [
    "Now that we have the list of files we want to mosaic, we can run a system command to combine them into one raster."
   ]
  },
  {
   "cell_type": "code",
   "execution_count": 4,
   "id": "bb3529ae",
   "metadata": {},
   "outputs": [
    {
     "name": "stderr",
     "output_type": "stream",
     "text": [
      "Warning 1: The definition of geographic CRS EPSG:4326 got from GeoTIFF keys is not the same as the one from the EPSG registry, which may cause issues during reprojection operations. Set GTIFF_SRS_SOURCE configuration option to EPSG to use official parameters (overriding the ones from GeoTIFF keys), or to GEOKEYS to use custom values from GeoTIFF keys and drop the EPSG code.\n",
      "Warning 1: The definition of geographic CRS EPSG:4326 got from GeoTIFF keys is not the same as the one from the EPSG registry, which may cause issues during reprojection operations. Set GTIFF_SRS_SOURCE configuration option to EPSG to use official parameters (overriding the ones from GeoTIFF keys), or to GEOKEYS to use custom values from GeoTIFF keys and drop the EPSG code.\n",
      "Warning 1: The definition of geographic CRS EPSG:4326 got from GeoTIFF keys is not the same as the one from the EPSG registry, which may cause issues during reprojection operations. Set GTIFF_SRS_SOURCE configuration option to EPSG to use official parameters (overriding the ones from GeoTIFF keys), or to GEOKEYS to use custom values from GeoTIFF keys and drop the EPSG code.\n",
      "Warning 1: The definition of geographic CRS EPSG:4326 got from GeoTIFF keys is not the same as the one from the EPSG registry, which may cause issues during reprojection operations. Set GTIFF_SRS_SOURCE configuration option to EPSG to use official parameters (overriding the ones from GeoTIFF keys), or to GEOKEYS to use custom values from GeoTIFF keys and drop the EPSG code.\n",
      "Warning 1: The definition of geographic CRS EPSG:4326 got from GeoTIFF keys is not the same as the one from the EPSG registry, which may cause issues during reprojection operations. Set GTIFF_SRS_SOURCE configuration option to EPSG to use official parameters (overriding the ones from GeoTIFF keys), or to GEOKEYS to use custom values from GeoTIFF keys and drop the EPSG code.\n",
      "Warning 1: The definition of geographic CRS EPSG:4326 got from GeoTIFF keys is not the same as the one from the EPSG registry, which may cause issues during reprojection operations. Set GTIFF_SRS_SOURCE configuration option to EPSG to use official parameters (overriding the ones from GeoTIFF keys), or to GEOKEYS to use custom values from GeoTIFF keys and drop the EPSG code.\n",
      "Warning 1: The definition of geographic CRS EPSG:4326 got from GeoTIFF keys is not the same as the one from the EPSG registry, which may cause issues during reprojection operations. Set GTIFF_SRS_SOURCE configuration option to EPSG to use official parameters (overriding the ones from GeoTIFF keys), or to GEOKEYS to use custom values from GeoTIFF keys and drop the EPSG code.\n",
      "Warning 1: The definition of geographic CRS EPSG:4326 got from GeoTIFF keys is not the same as the one from the EPSG registry, which may cause issues during reprojection operations. Set GTIFF_SRS_SOURCE configuration option to EPSG to use official parameters (overriding the ones from GeoTIFF keys), or to GEOKEYS to use custom values from GeoTIFF keys and drop the EPSG code.\n",
      "Warning 1: The definition of geographic CRS EPSG:4326 got from GeoTIFF keys is not the same as the one from the EPSG registry, which may cause issues during reprojection operations. Set GTIFF_SRS_SOURCE configuration option to EPSG to use official parameters (overriding the ones from GeoTIFF keys), or to GEOKEYS to use custom values from GeoTIFF keys and drop the EPSG code.\n",
      "Warning 1: The definition of geographic CRS EPSG:4326 got from GeoTIFF keys is not the same as the one from the EPSG registry, which may cause issues during reprojection operations. Set GTIFF_SRS_SOURCE configuration option to EPSG to use official parameters (overriding the ones from GeoTIFF keys), or to GEOKEYS to use custom values from GeoTIFF keys and drop the EPSG code.\n",
      "Warning 1: The definition of geographic CRS EPSG:4326 got from GeoTIFF keys is not the same as the one from the EPSG registry, which may cause issues during reprojection operations. Set GTIFF_SRS_SOURCE configuration option to EPSG to use official parameters (overriding the ones from GeoTIFF keys), or to GEOKEYS to use custom values from GeoTIFF keys and drop the EPSG code.\n",
      "Warning 1: The definition of geographic CRS EPSG:4326 got from GeoTIFF keys is not the same as the one from the EPSG registry, which may cause issues during reprojection operations. Set GTIFF_SRS_SOURCE configuration option to EPSG to use official parameters (overriding the ones from GeoTIFF keys), or to GEOKEYS to use custom values from GeoTIFF keys and drop the EPSG code.\n",
      "Warning 1: The definition of geographic CRS EPSG:4326 got from GeoTIFF keys is not the same as the one from the EPSG registry, which may cause issues during reprojection operations. Set GTIFF_SRS_SOURCE configuration option to EPSG to use official parameters (overriding the ones from GeoTIFF keys), or to GEOKEYS to use custom values from GeoTIFF keys and drop the EPSG code.\n",
      "Warning 1: The definition of geographic CRS EPSG:4326 got from GeoTIFF keys is not the same as the one from the EPSG registry, which may cause issues during reprojection operations. Set GTIFF_SRS_SOURCE configuration option to EPSG to use official parameters (overriding the ones from GeoTIFF keys), or to GEOKEYS to use custom values from GeoTIFF keys and drop the EPSG code.\n",
      "Warning 1: The definition of geographic CRS EPSG:4326 got from GeoTIFF keys is not the same as the one from the EPSG registry, which may cause issues during reprojection operations. Set GTIFF_SRS_SOURCE configuration option to EPSG to use official parameters (overriding the ones from GeoTIFF keys), or to GEOKEYS to use custom values from GeoTIFF keys and drop the EPSG code.\n",
      "Warning 1: The definition of geographic CRS EPSG:4326 got from GeoTIFF keys is not the same as the one from the EPSG registry, which may cause issues during reprojection operations. Set GTIFF_SRS_SOURCE configuration option to EPSG to use official parameters (overriding the ones from GeoTIFF keys), or to GEOKEYS to use custom values from GeoTIFF keys and drop the EPSG code.\n",
      "Warning 1: The definition of geographic CRS EPSG:4326 got from GeoTIFF keys is not the same as the one from the EPSG registry, which may cause issues during reprojection operations. Set GTIFF_SRS_SOURCE configuration option to EPSG to use official parameters (overriding the ones from GeoTIFF keys), or to GEOKEYS to use custom values from GeoTIFF keys and drop the EPSG code.\n",
      "Warning 1: The definition of geographic CRS EPSG:4326 got from GeoTIFF keys is not the same as the one from the EPSG registry, which may cause issues during reprojection operations. Set GTIFF_SRS_SOURCE configuration option to EPSG to use official parameters (overriding the ones from GeoTIFF keys), or to GEOKEYS to use custom values from GeoTIFF keys and drop the EPSG code.\n",
      "Warning 1: The definition of geographic CRS EPSG:4326 got from GeoTIFF keys is not the same as the one from the EPSG registry, which may cause issues during reprojection operations. Set GTIFF_SRS_SOURCE configuration option to EPSG to use official parameters (overriding the ones from GeoTIFF keys), or to GEOKEYS to use custom values from GeoTIFF keys and drop the EPSG code.\n",
      "Warning 1: The definition of geographic CRS EPSG:4326 got from GeoTIFF keys is not the same as the one from the EPSG registry, which may cause issues during reprojection operations. Set GTIFF_SRS_SOURCE configuration option to EPSG to use official parameters (overriding the ones from GeoTIFF keys), or to GEOKEYS to use custom values from GeoTIFF keys and drop the EPSG code.\n",
      "Warning 1: The definition of geographic CRS EPSG:4326 got from GeoTIFF keys is not the same as the one from the EPSG registry, which may cause issues during reprojection operations. Set GTIFF_SRS_SOURCE configuration option to EPSG to use official parameters (overriding the ones from GeoTIFF keys), or to GEOKEYS to use custom values from GeoTIFF keys and drop the EPSG code.\n",
      "Warning 1: The definition of geographic CRS EPSG:4326 got from GeoTIFF keys is not the same as the one from the EPSG registry, which may cause issues during reprojection operations. Set GTIFF_SRS_SOURCE configuration option to EPSG to use official parameters (overriding the ones from GeoTIFF keys), or to GEOKEYS to use custom values from GeoTIFF keys and drop the EPSG code.\n",
      "Warning 1: The definition of geographic CRS EPSG:4326 got from GeoTIFF keys is not the same as the one from the EPSG registry, which may cause issues during reprojection operations. Set GTIFF_SRS_SOURCE configuration option to EPSG to use official parameters (overriding the ones from GeoTIFF keys), or to GEOKEYS to use custom values from GeoTIFF keys and drop the EPSG code.\n",
      "Warning 1: The definition of geographic CRS EPSG:4326 got from GeoTIFF keys is not the same as the one from the EPSG registry, which may cause issues during reprojection operations. Set GTIFF_SRS_SOURCE configuration option to EPSG to use official parameters (overriding the ones from GeoTIFF keys), or to GEOKEYS to use custom values from GeoTIFF keys and drop the EPSG code.\n",
      "Warning 1: The definition of geographic CRS EPSG:4326 got from GeoTIFF keys is not the same as the one from the EPSG registry, which may cause issues during reprojection operations. Set GTIFF_SRS_SOURCE configuration option to EPSG to use official parameters (overriding the ones from GeoTIFF keys), or to GEOKEYS to use custom values from GeoTIFF keys and drop the EPSG code.\n",
      "Warning 1: The definition of geographic CRS EPSG:4326 got from GeoTIFF keys is not the same as the one from the EPSG registry, which may cause issues during reprojection operations. Set GTIFF_SRS_SOURCE configuration option to EPSG to use official parameters (overriding the ones from GeoTIFF keys), or to GEOKEYS to use custom values from GeoTIFF keys and drop the EPSG code.\n",
      "Warning 1: The definition of geographic CRS EPSG:4326 got from GeoTIFF keys is not the same as the one from the EPSG registry, which may cause issues during reprojection operations. Set GTIFF_SRS_SOURCE configuration option to EPSG to use official parameters (overriding the ones from GeoTIFF keys), or to GEOKEYS to use custom values from GeoTIFF keys and drop the EPSG code.\n",
      "Warning 1: The definition of geographic CRS EPSG:4326 got from GeoTIFF keys is not the same as the one from the EPSG registry, which may cause issues during reprojection operations. Set GTIFF_SRS_SOURCE configuration option to EPSG to use official parameters (overriding the ones from GeoTIFF keys), or to GEOKEYS to use custom values from GeoTIFF keys and drop the EPSG code.\n",
      "Warning 1: The definition of geographic CRS EPSG:4326 got from GeoTIFF keys is not the same as the one from the EPSG registry, which may cause issues during reprojection operations. Set GTIFF_SRS_SOURCE configuration option to EPSG to use official parameters (overriding the ones from GeoTIFF keys), or to GEOKEYS to use custom values from GeoTIFF keys and drop the EPSG code.\n",
      "Warning 1: The definition of geographic CRS EPSG:4326 got from GeoTIFF keys is not the same as the one from the EPSG registry, which may cause issues during reprojection operations. Set GTIFF_SRS_SOURCE configuration option to EPSG to use official parameters (overriding the ones from GeoTIFF keys), or to GEOKEYS to use custom values from GeoTIFF keys and drop the EPSG code.\n",
      "Warning 1: The definition of geographic CRS EPSG:4326 got from GeoTIFF keys is not the same as the one from the EPSG registry, which may cause issues during reprojection operations. Set GTIFF_SRS_SOURCE configuration option to EPSG to use official parameters (overriding the ones from GeoTIFF keys), or to GEOKEYS to use custom values from GeoTIFF keys and drop the EPSG code.\n",
      "Warning 1: The definition of geographic CRS EPSG:4326 got from GeoTIFF keys is not the same as the one from the EPSG registry, which may cause issues during reprojection operations. Set GTIFF_SRS_SOURCE configuration option to EPSG to use official parameters (overriding the ones from GeoTIFF keys), or to GEOKEYS to use custom values from GeoTIFF keys and drop the EPSG code.\n",
      "Warning 1: The definition of geographic CRS EPSG:4326 got from GeoTIFF keys is not the same as the one from the EPSG registry, which may cause issues during reprojection operations. Set GTIFF_SRS_SOURCE configuration option to EPSG to use official parameters (overriding the ones from GeoTIFF keys), or to GEOKEYS to use custom values from GeoTIFF keys and drop the EPSG code.\n",
      "Warning 1: The definition of geographic CRS EPSG:4326 got from GeoTIFF keys is not the same as the one from the EPSG registry, which may cause issues during reprojection operations. Set GTIFF_SRS_SOURCE configuration option to EPSG to use official parameters (overriding the ones from GeoTIFF keys), or to GEOKEYS to use custom values from GeoTIFF keys and drop the EPSG code.\n",
      "Warning 1: The definition of geographic CRS EPSG:4326 got from GeoTIFF keys is not the same as the one from the EPSG registry, which may cause issues during reprojection operations. Set GTIFF_SRS_SOURCE configuration option to EPSG to use official parameters (overriding the ones from GeoTIFF keys), or to GEOKEYS to use custom values from GeoTIFF keys and drop the EPSG code.\n",
      "Warning 1: The definition of geographic CRS EPSG:4326 got from GeoTIFF keys is not the same as the one from the EPSG registry, which may cause issues during reprojection operations. Set GTIFF_SRS_SOURCE configuration option to EPSG to use official parameters (overriding the ones from GeoTIFF keys), or to GEOKEYS to use custom values from GeoTIFF keys and drop the EPSG code.\n",
      "ERROR 4: Attempt to create new tiff file `/workdir/TERRA_AGOSTO_Mosaic.tif' failed: No such file or directory\n"
     ]
    },
    {
     "data": {
      "text/plain": [
       "'Creation failed, terminating gdal_merge.\\n'"
      ]
     },
     "execution_count": 4,
     "metadata": {},
     "output_type": "execute_result"
    }
   ],
   "source": [
    "command = \"gdal_merge.py -o /workdir/TERRA_AGOSTO_Mosaic.tif -of gtiff \" + files_string\n",
    "os.popen(command).read()"
   ]
  },
  {
   "cell_type": "markdown",
   "id": "36694295",
   "metadata": {},
   "source": [
    "## Read Mosaic"
   ]
  },
  {
   "cell_type": "code",
   "execution_count": 5,
   "id": "5c6203ee",
   "metadata": {},
   "outputs": [
    {
     "name": "stderr",
     "output_type": "stream",
     "text": [
      "ERROR 4: TERRA_AGOSTO_Mosaic.tif: No such file or directory\n"
     ]
    }
   ],
   "source": [
    "dataset = gdal.Open(\"TERRA_AGOSTO_Mosaic.tif\")"
   ]
  },
  {
   "cell_type": "code",
   "execution_count": 6,
   "id": "afa325ed",
   "metadata": {},
   "outputs": [
    {
     "ename": "AttributeError",
     "evalue": "'NoneType' object has no attribute 'RasterCount'",
     "output_type": "error",
     "traceback": [
      "\u001b[0;31m---------------------------------------------------------------------------\u001b[0m",
      "\u001b[0;31mAttributeError\u001b[0m                            Traceback (most recent call last)",
      "Cell \u001b[0;32mIn[6], line 1\u001b[0m\n\u001b[0;32m----> 1\u001b[0m \u001b[43mdataset\u001b[49m\u001b[38;5;241;43m.\u001b[39;49m\u001b[43mRasterCount\u001b[49m\n",
      "\u001b[0;31mAttributeError\u001b[0m: 'NoneType' object has no attribute 'RasterCount'"
     ]
    }
   ],
   "source": [
    "dataset.RasterCount"
   ]
  }
 ],
 "metadata": {
  "kernelspec": {
   "display_name": "Python 3 (ipykernel)",
   "language": "python",
   "name": "python3"
  },
  "language_info": {
   "codemirror_mode": {
    "name": "ipython",
    "version": 3
   },
   "file_extension": ".py",
   "mimetype": "text/x-python",
   "name": "python",
   "nbconvert_exporter": "python",
   "pygments_lexer": "ipython3",
   "version": "3.10.6"
  }
 },
 "nbformat": 4,
 "nbformat_minor": 5
}
